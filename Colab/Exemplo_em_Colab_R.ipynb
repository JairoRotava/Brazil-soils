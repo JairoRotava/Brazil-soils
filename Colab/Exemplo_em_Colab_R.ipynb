{
  "nbformat": 4,
  "nbformat_minor": 0,
  "metadata": {
    "colab": {
      "provenance": [],
      "include_colab_link": true
    },
    "kernelspec": {
      "name": "ir",
      "display_name": "R"
    },
    "language_info": {
      "name": "R"
    }
  },
  "cells": [
    {
      "cell_type": "markdown",
      "metadata": {
        "id": "view-in-github",
        "colab_type": "text"
      },
      "source": [
        "<a href=\"https://colab.research.google.com/github/JairoRotava/Brazil-soils/blob/main/Colab/Exemplo_em_Colab_R.ipynb\" target=\"_parent\"><img src=\"https://colab.research.google.com/assets/colab-badge.svg\" alt=\"Open In Colab\"/></a>"
      ]
    },
    {
      "cell_type": "markdown",
      "source": [
        "Exemplo utilização em Colab"
      ],
      "metadata": {
        "id": "Ye7TrelB33xx"
      }
    },
    {
      "cell_type": "code",
      "source": [
        "# Instala dependencias de funções GIS do R em Linux\n",
        "system(\"apt-get -y update\")\n",
        "system(\"apt-get install -y libudunits2-dev libgdal-dev libgeos-dev libproj-dev\")"
      ],
      "metadata": {
        "id": "a_Q28ijgt9wy"
      },
      "execution_count": null,
      "outputs": []
    },
    {
      "cell_type": "code",
      "source": [
        "# Baixa dados do github\n",
        "system('sudo git clone https://github.com/JairoRotava/Brazil-soils', intern=TRUE)\n",
        "setwd(\"/content/Brazil-soils\")\n",
        "getwd()"
      ],
      "metadata": {
        "colab": {
          "base_uri": "https://localhost:8080/",
          "height": 34
        },
        "id": "MtPwkS7c7wt9",
        "outputId": "b5cf4aea-e05f-4bf5-82a1-38c78d540c20"
      },
      "execution_count": null,
      "outputs": [
        {
          "output_type": "display_data",
          "data": {
            "text/html": [],
            "text/markdown": "",
            "text/latex": "",
            "text/plain": [
              "character(0)"
            ]
          },
          "metadata": {}
        },
        {
          "output_type": "display_data",
          "data": {
            "text/html": [
              "'/content/Brazil-soils'"
            ],
            "text/markdown": "'/content/Brazil-soils'",
            "text/latex": "'/content/Brazil-soils'",
            "text/plain": [
              "[1] \"/content/Brazil-soils\""
            ]
          },
          "metadata": {}
        }
      ]
    },
    {
      "cell_type": "code",
      "source": [],
      "metadata": {
        "id": "otobxihG7-dI"
      },
      "execution_count": null,
      "outputs": []
    },
    {
      "cell_type": "code",
      "source": [
        "# Instala pacotes. Demora pq eles são compilados...\n",
        "install.packages(\"sf\", lib=\"/content/Brazil-soils/Colab/compiled-packages\")"
      ],
      "metadata": {
        "id": "aQ0Z_1PWuTv3"
      },
      "execution_count": null,
      "outputs": []
    },
    {
      "cell_type": "code",
      "source": [
        "# Instala pacotes necessarios\n",
        "install.packages(c(\"geobr\",\"modules\",\"sp\"))"
      ],
      "metadata": {
        "id": "UecZ0-nNxp-b"
      },
      "execution_count": null,
      "outputs": []
    },
    {
      "cell_type": "code",
      "source": [
        "install.packages(c(\"tryCatchLog\", \"futile.logger\")\")"
      ],
      "metadata": {
        "id": "i6mpEWtdxps5"
      },
      "execution_count": null,
      "outputs": []
    },
    {
      "cell_type": "code",
      "source": [
        "# Baixa dados do github\n",
        "system('sudo git clone https://github.com/JairoRotava/Brazil-soils', intern=TRUE)"
      ],
      "metadata": {
        "id": "Vc7jzXn9VZVx",
        "outputId": "4c62f8fb-f2be-4f84-a88f-bcc0fa37aad5",
        "colab": {
          "base_uri": "https://localhost:8080/",
          "height": 17
        }
      },
      "execution_count": null,
      "outputs": [
        {
          "output_type": "display_data",
          "data": {
            "text/html": [],
            "text/markdown": "",
            "text/latex": "",
            "text/plain": [
              "character(0)"
            ]
          },
          "metadata": {}
        }
      ]
    },
    {
      "cell_type": "code",
      "source": [
        "setwd(\"/content/Brazil-soils\")\n",
        "getwd()"
      ],
      "metadata": {
        "id": "cQ_V54__Yqjp",
        "colab": {
          "base_uri": "https://localhost:8080/",
          "height": 34
        },
        "outputId": "8f3a64b9-9972-409f-de73-c1043466ca51"
      },
      "execution_count": null,
      "outputs": [
        {
          "output_type": "display_data",
          "data": {
            "text/html": [
              "'/content/Brazil-soils'"
            ],
            "text/markdown": "'/content/Brazil-soils'",
            "text/latex": "'/content/Brazil-soils'",
            "text/plain": [
              "[1] \"/content/Brazil-soils\""
            ]
          },
          "metadata": {}
        }
      ]
    },
    {
      "cell_type": "code",
      "source": [
        "lib <- modules::use(\"R\")"
      ],
      "metadata": {
        "colab": {
          "base_uri": "https://localhost:8080/"
        },
        "id": "IRLFMtLdrhmx",
        "outputId": "9f2bc4f1-6fa7-4cc9-ca8b-1d1a220e2d6e"
      },
      "execution_count": null,
      "outputs": [
        {
          "output_type": "stream",
          "name": "stderr",
          "text": [
            "Masking (modules:dplyr):\n",
            "  `intersect` from: base\n",
            "  `setdiff` from: base\n",
            "  `setequal` from: base\n",
            "  `union` from: base\n",
            "\n",
            "Masking (modules:sp):\n",
            "  `merge` from: base\n",
            "  `plot` from: base\n",
            "  `split` from: base\n",
            "  `summary` from: base\n",
            "\n",
            "Loading required namespace: sf\n",
            "\n",
            "Masking (modules:ggplot2):\n",
            "  `as_label` from: modules:dplyr\n",
            "  `enexpr` from: modules:dplyr\n",
            "  `enexprs` from: modules:dplyr\n",
            "  `enquo` from: modules:dplyr\n",
            "  `enquos` from: modules:dplyr\n",
            "  `ensym` from: modules:dplyr\n",
            "  `ensyms` from: modules:dplyr\n",
            "  `expr` from: modules:dplyr\n",
            "  `Position` from: base\n",
            "  `quo` from: modules:dplyr\n",
            "  `quo_name` from: modules:dplyr\n",
            "  `quos` from: modules:dplyr\n",
            "  `sym` from: modules:dplyr\n",
            "  `syms` from: modules:dplyr\n",
            "  `vars` from: modules:dplyr\n",
            "\n"
          ]
        }
      ]
    },
    {
      "cell_type": "code",
      "source": [
        "# Processa/carregada dados embrapa\n",
        "# ----\n",
        "# Arquivo de dados pré processado embrapa\n",
        "PRE_PROCESSED_FILE = \"./results/embrapa_soil_raw.Rda\"\n",
        "\n",
        "# Caso arquivo de dados pré processado não existea, gera um a partir\n",
        "# dos dados da embrapa\n",
        "if (!file.exists(PRE_PROCESSED_FILE)) {\n",
        "  print(\"Gerando arquivo de dados de embrapa\")\n",
        "  solos <- lib$embrapa$read_all_files(\"./Data/Embrapa\")\n",
        "  saveRDS(solos, PRE_PROCESSED_FILE)\n",
        "\n",
        "}\n",
        "\n",
        "# Carrega dados pré processados embrapa\n",
        "# Ver variavel solos no RStudio\n",
        "solos <- readRDS(PRE_PROCESSED_FILE)"
      ],
      "metadata": {
        "id": "-fLyP_TR0SUz"
      },
      "execution_count": null,
      "outputs": []
    },
    {
      "cell_type": "code",
      "source": [
        "# Mostra pontos no mapa\n",
        "# ----\n",
        "\n",
        "# Remove pontos sem coordenada GPS\n",
        "solos = solos[complete.cases(solos[,c(\"latitude.graus\",\n",
        "                                      \"longitude.graus\")]),]\n",
        "# Altera NA em coordenads GPS para 0, pois alguns pontos não tem\n",
        "# segundos definidos\n",
        "solos$latitude.graus[is.na(solos$latitude.graus)] <-0\n",
        "solos$latitude.minutos[is.na(solos$latitude.minutos)] <-0\n",
        "solos$latitude.segundos[is.na(solos$latitude.segundos)] <-0\n",
        "solos$longitude.graus[is.na(solos$longitude.graus)] <-0\n",
        "solos$longitude.minutos[is.na(solos$longitude.minutos)] <-0\n",
        "solos$longitude.segundos[is.na(solos$longitude.segundos)] <-0\n",
        "\n",
        "# Seta hemisferio para sul ou oeste sempre que tiver indefinido\n",
        "solos$longitude.hemisferio <- tolower(solos$longitude.hemisferio)\n",
        "solos$latitude.hemisferio <- tolower(solos$latitude.hemisferio)\n",
        "\n",
        "solos$longitude.hemisferio[!(solos$longitude.hemisferio %in%\n",
        "                               c(\"leste\", \"oeste\"))] <- \"oeste\"\n",
        "solos$latitude.hemisferio[!(solos$latitude.hemisferio %in%\n",
        "                              c(\"norte\", \"sul\"))] <- \"sul\"\n",
        "# Como o brasil fica sempre a oeste, seta hemisferio\n",
        "solos$longitude.hemisferio <- \"oeste\"\n",
        "\n",
        "\n",
        "# Remove pontos com coordenadas GPS fora do range\n",
        "solos = subset(solos, solos$longitude.graus <= 180\n",
        "               & solos$longitude.graus >= -180)\n",
        "solos = subset(solos, solos$latitude.graus <= 90\n",
        "               & solos$latitude.graus >= -90)\n",
        "\n",
        "# Converte latitude de graus para decimal\n",
        "solos$lat_dec <- mapply(lib$embrapa$convert_deg_to_decimal,\n",
        "                        solos[\"latitude.graus\"],\n",
        "                        solos[\"latitude.minutos\"],\n",
        "                        solos[\"latitude.segundos\"],\n",
        "                        solos[\"latitude.hemisferio\"])\n",
        "\n",
        "# Converte longitude de graus para decimal\n",
        "solos$lon_dec <- mapply(lib$embrapa$convert_deg_to_decimal,\n",
        "                        solos[\"longitude.graus\"],\n",
        "                        solos[\"longitude.minutos\"],\n",
        "                        solos[\"longitude.segundos\"],\n",
        "                        solos[\"longitude.hemisferio\"])\n",
        "\n",
        "# Converte latitudes positivas em negativas\n",
        "#(erro no arquivo da embrapa),\n",
        "#solos$lon_dec <- - abs(solos$lon_dec)\n",
        "\n",
        "# Carrega mapa do Brasil para plotar os pontos de dados\n",
        "lib$embrapa$plot_sites(solos$lon_dec, solos$lat_dec)\n"
      ],
      "metadata": {
        "colab": {
          "base_uri": "https://localhost:8080/",
          "height": 492
        },
        "id": "Tli8zE9r1LkW",
        "outputId": "668881eb-4078-42a0-ff02-86d79f497e48"
      },
      "execution_count": null,
      "outputs": [
        {
          "output_type": "stream",
          "name": "stderr",
          "text": [
            "Using year 2010\n",
            "\n"
          ]
        },
        {
          "output_type": "stream",
          "name": "stdout",
          "text": [
            "  |======================================================================| 100%\n"
          ]
        },
        {
          "output_type": "display_data",
          "data": {
            "text/plain": [
              "plot without title"
            ],
            "image/png": "[encoded data removed]"
          },
          "metadata": {
            "image/png": {
              "width": 420,
              "height": 420
            }
          }
        }
      ]
    },
    {
      "cell_type": "markdown",
      "source": [
        "# Desenvolvimento conversao SWAT"
      ],
      "metadata": {
        "id": "-v4Pix8_7bKm"
      }
    },
    {
      "cell_type": "code",
      "source": [
        "library(tryCatchLog)\n",
        "library(\"futile.logger\")\n",
        "library(dplyr)"
      ],
      "metadata": {
        "id": "J-_IbyZ27mnI"
      },
      "execution_count": null,
      "outputs": []
    },
    {
      "cell_type": "code",
      "source": [
        "# Converte para SWAT - Em desenvolvimento ainda!!!\n",
        "# Utilizada dados pre processado Embrapa, processa dados e converte para SWAT\n",
        "# ----\n",
        "\n",
        "# Arquivo para log dos erros de conversao\n",
        "LOG_FILE_NAME <- paste0(\"./log/\",\n",
        "                        format(Sys.time(), \"%Y%m%dT%H%M%S\"),\n",
        "                        \"_swat_convertion.log\")\n",
        "\n",
        "\n",
        "# tryLog insere muitas linhas no fim da mensagem\n",
        "# foi criado um novo appender no futile.logger para remover as linhas extras\n",
        "# do final. Se tiver mais de 3 fim de linha, troca por 1\n",
        "my_appender <- function(filename)\n",
        "{\n",
        "  function(line) {\n",
        "    appender.tee(filename)(gsub(\"\\n\\n\\n+$\", \"\\n\", line) )\n",
        "  }\n",
        "}\n",
        "\n",
        "\n",
        "\n",
        "SWAT_HEADER = c(\"MUID\", \"SEQN\", \"SNAM\", \"S5ID\", \"CMPPCT\", \"NLAYERS\", \"HYDGRP\", \"SOL_ZMX\", \"ANION_EXCL\", \"SOL_CRK\", \"TEXTURE\",\n",
        "                \"SOL_Z1\", \"SOL_BD1\", \"SOL_AWC1\", \"SOL_K1\", \"SOL_CBN1\", \"CLAY1\", \"SILT1\", \"SAND1\", \"ROCK1\", \"SOL_ALB1\", \"USLE_K1\", \"SOL_EC1\",\n",
        "                \"SOL_Z2\", \"SOL_BD2\", \"SOL_AWC2\", \"SOL_K2\", \"SOL_CBN2\", \"CLAY2\", \"SILT2\", \"SAND2\", \"ROCK2\", \"SOL_ALB2\", \"USLE_K2\", \"SOL_EC2\",\n",
        "                \"SOL_Z3\", \"SOL_BD3\", \"SOL_AWC3\", \"SOL_K3\", \"SOL_CBN3\", \"CLAY3\", \"SILT3\", \"SAND3\", \"ROCK3\", \"SOL_ALB3\", \"USLE_K3\", \"SOL_EC3\",\n",
        "                \"SOL_Z4\", \"SOL_BD4\", \"SOL_AWC4\", \"SOL_K4\", \"SOL_CBN4\", \"CLAY4\", \"SILT4\", \"SAND4\", \"ROCK4\", \"SOL_ALB4\", \"USLE_K4\", \"SOL_EC4\",\n",
        "                \"SOL_Z5\", \"SOL_BD5\", \"SOL_AWC5\", \"SOL_K5\", \"SOL_CBN5\", \"CLAY5\", \"SILT5\", \"SAND5\", \"ROCK5\", \"SOL_ALB5\", \"USLE_K5\", \"SOL_EC5\",\n",
        "                \"SOL_Z6\", \"SOL_BD6\", \"SOL_AWC6\", \"SOL_K6\", \"SOL_CBN6\", \"CLAY6\", \"SILT6\", \"SAND6\", \"ROCK6\", \"SOL_ALB6\", \"USLE_K6\", \"SOL_EC6\",\n",
        "                \"SOL_Z7\", \"SOL_BD7\", \"SOL_AWC7\", \"SOL_K7\", \"SOL_CBN7\", \"CLAY7\", \"SILT7\", \"SAND7\", \"ROCK7\", \"SOL_ALB7\", \"USLE_K7\", \"SOL_EC7\",\n",
        "                \"SOL_Z8\", \"SOL_BD8\", \"SOL_AWC8\", \"SOL_K8\", \"SOL_CBN8\", \"CLAY8\", \"SILT8\", \"SAND8\", \"ROCK8\", \"SOL_ALB8\", \"USLE_K8\", \"SOL_EC8\",\n",
        "                \"SOL_Z9\", \"SOL_BD9\", \"SOL_AWC9\", \"SOL_K9\", \"SOL_CBN9\", \"CLAY9\", \"SILT9\", \"SAND9\", \"ROCK9\", \"SOL_ALB9\", \"USLE_K9\", \"SOL_EC9\",\n",
        "                \"SOL_Z10\", \"SOL_BD10\", \"SOL_AWC10\", \"SOL_K10\", \"SOL_CBN10\", \"CLAY10\", \"SILT10\", \"SAND10\", \"ROCK10\", \"SOL_ALB10\", \"USLE_K10\", \"SOL_EC10\")\n",
        "\n",
        "convert_to_swat <- function(x) {\n",
        "  soil_df <- data.frame(matrix(ncol = length(SWAT_HEADER), nrow = 1))\n",
        "  colnames(soil_df) <- SWAT_HEADER\n",
        "  # Obtem ID no ponto\n",
        "  soil_df$MUID <- x[1,\"codigo.pa\"]\n",
        "  flog.debug(paste(\"Processando ID \",soil_df$MUID))\n",
        "\n",
        "  # Checa se não não existe valor NA como profundidade\n",
        "  if (anyNA(x[c(\"profundidade.inferior\",\"profundidade.superior\")]))\n",
        "  {\n",
        "    stop(paste(\"Valores NA para profundida para ID\", soil_df$MUID))\n",
        "\n",
        "  }\n",
        "\n",
        "  # Coloca em ordem crescente com profundidade\n",
        "  x <- arrange(x, profundidade.superior)\n",
        "\n",
        "  # numero de camadas\n",
        "  # Trunca numero de camadas para 10 - limite SWAT\n",
        "  n_layers <- nrow(x)\n",
        "  if (n_layers > 10) {\n",
        "    warning(paste(\"Truncando para 10 camadas de solo para ID\", soil_df$MUID))\n",
        "    n_layers <- 10\n",
        "  }\n",
        "  soil_df$NLAYERS <- n_layers\n",
        "  # Verifica se espessuras de solo estao de acordo e atualiza\n",
        "  z = 0\n",
        "\n",
        "\n",
        "  # Varre camada por camada\n",
        "  for (i in seq_len(n_layers)) {\n",
        "    if (x[i,\"profundidade.superior\"] != z) {\n",
        "      stop(paste(\"Erro de continuidade de camadas para ID\",soil_df$MUID))\n",
        "    }\n",
        "    e <- x[i,\"profundidade.inferior\"] - x[i,\"profundidade.superior\"]\n",
        "    z <- z + e\n",
        "    soil_df[paste0(\"SOL_Z\",i)] <- z\n",
        "\n",
        "    # Fazer funcao PTF para a camada\n",
        "    oc <- x[i,\"carbono.organico\"]\n",
        "    clay <- x[i,\"composicao.granulometrica.da.terra.fina.argila.g.kg\"]/10\n",
        "    silt <- x[i,\"composicao.granulometrica.da.terra.fina.silte.g.kg\"]/10\n",
        "    sand <- x[i,\"composicao.granulometrica.da.terra.fina.areia.total.g.kg\"]/10\n",
        "    rock <- x[i,\"fracoes.da.amostra.total.calhaus.g.kg\"]/10\n",
        "\n",
        "    #print(paste(oc,clay,silt,sand,rock))\n",
        "    # Calcula oq tem que calcular\n",
        "    if (anyNA(c(oc, clay, silt, sand, rock))) {\n",
        "      stop(paste(\"Dados de camada\",i,\"incompletos para ID\", soil_df$MUID))\n",
        "    }\n",
        "\n",
        "    swat_layer <- lib$soil$convert_layer_to_swat(oc, clay, silt, sand, rock)\n",
        "\n",
        "\n",
        "    soil_df[paste0(\"SOL_BD\",i)] <- swat_layer$SOL_BD\n",
        "    soil_df[paste0(\"SOL_AWC\",i)] <- swat_layer$SOL_AWC\n",
        "    soil_df[paste0(\"SOL_K\",i)] <- swat_layer$SOL_K\n",
        "    soil_df[paste0(\"SOL_CBN\",i)] <- swat_layer$SOL_CBN\n",
        "    soil_df[paste0(\"CLAY\",i)] <- swat_layer$CLAY\n",
        "    soil_df[paste0(\"SILT\",i)] <- swat_layer$SILT\n",
        "    soil_df[paste0(\"SAND\",i)] <- swat_layer$SAND\n",
        "    soil_df[paste0(\"ROCK\",i)] <- swat_layer$ROCK\n",
        "    soil_df[paste0(\"SOL_ALB\",i)] <- swat_layer$SOL_ALB\n",
        "    soil_df[paste0(\"USLE_K\",i)] <- swat_layer$USLE_K\n",
        "    soil_df[paste0(\"SOL_EC\",i)] <- swat_layer$SOL_EC\n",
        "\n",
        "  }\n",
        "  soil_df$SOL_ZMX <- z\n",
        "\n",
        "  # ANION_EXC. Default value if this parameter is not available\n",
        "  soil_df$ANION_EXCL <- 0.5\n",
        "  #sOL_CRK. Set to same value as all the existing soils in the APEX database\n",
        "  soil_df$SOL_CRK <- 0.5\n",
        "\n",
        "  return(soil_df)\n",
        "}\n",
        "\n",
        "\n",
        "# Obtem ID unicos dos pontos da coluna \"codigo.pa\"\n",
        "ids <- unique(solos$codigo.pa)\n",
        "\n",
        "# Para DEBUG é interessante diminuir o numero de pontos, por isso\n",
        "# seleciona somente alguns ids.\n",
        "#ids <- c(7081, 7082, 7086)\n",
        "ids <- ids[1:10]\n",
        "\n",
        "flog.appender(my_appender(LOG_FILE_NAME))\n",
        "flog.threshold(DEBUG)\n",
        "#swat_soil <- data.frame()\n",
        "swat_soil <- data.frame(matrix(ncol = length(SWAT_HEADER), nrow = 1))\n",
        "colnames(swat_soil) <- SWAT_HEADER\n",
        "\n",
        "# Converte dados embrapa para formato SWAT. Gera log\n",
        "for (id in ids) {\n",
        "  df = solos %>% filter(codigo.pa == id)\n",
        "\n",
        "  #try({\n",
        "  #  converted_soil <- lib$embrapa$convert_to_swat(df)\n",
        "  #  swat_soil <- rbind(swat_soil, converted_soil)\n",
        "  #})\n",
        "\n",
        "  # tryLog tenta realizar conversão, e gera log com erros para posterior verificação\n",
        "  tryLog(\n",
        "    {\n",
        "      converted_soil <- convert_to_swat(df)\n",
        "      swat_soil <- rbind(swat_soil, converted_soil)\n",
        "    },\n",
        "    include.compact.call.stack = FALSE,\n",
        "    include.full.call.stack = FALSE,\n",
        "  )\n",
        "}\n",
        "\n",
        "# Salva arquivo de solos para SWAT\n",
        "FILE_OUT = \"./results/soil_brazil.csv\"\n",
        "write.csv(swat_soil,FILE_OUT, quote = FALSE, row.names = FALSE)"
      ],
      "metadata": {
        "colab": {
          "base_uri": "https://localhost:8080/",
          "height": 405
        },
        "id": "5sqFPA0v1c9B",
        "outputId": "7ce56812-2176-48d1-b16d-d6256f9c47a4"
      },
      "execution_count": null,
      "outputs": [
        {
          "output_type": "display_data",
          "data": {
            "text/plain": [
              "NULL"
            ]
          },
          "metadata": {}
        },
        {
          "output_type": "display_data",
          "data": {
            "text/plain": [
              "NULL"
            ]
          },
          "metadata": {}
        },
        {
          "output_type": "stream",
          "name": "stdout",
          "text": [
            "DEBUG [2024-03-03 20:08:03] Processando ID  5768\n",
            "ERROR [2024-03-03 20:08:03] Erro de continuidade de camadas para ID 5768\n",
            "DEBUG [2024-03-03 20:08:03] Processando ID  5769\n",
            "ERROR [2024-03-03 20:08:03] Erro de continuidade de camadas para ID 5769\n",
            "DEBUG [2024-03-03 20:08:03] Processando ID  5771\n",
            "ERROR [2024-03-03 20:08:03] Erro de continuidade de camadas para ID 5771\n",
            "DEBUG [2024-03-03 20:08:03] Processando ID  5772\n",
            "ERROR [2024-03-03 20:08:03] Erro de continuidade de camadas para ID 5772\n",
            "DEBUG [2024-03-03 20:08:03] Processando ID  5773\n",
            "ERROR [2024-03-03 20:08:03] Erro de continuidade de camadas para ID 5773\n",
            "DEBUG [2024-03-03 20:08:03] Processando ID  5774\n",
            "ERROR [2024-03-03 20:08:03] Erro de continuidade de camadas para ID 5774\n",
            "DEBUG [2024-03-03 20:08:03] Processando ID  5775\n",
            "ERROR [2024-03-03 20:08:03] Erro de continuidade de camadas para ID 5775\n",
            "DEBUG [2024-03-03 20:08:03] Processando ID  5776\n",
            "ERROR [2024-03-03 20:08:03] Erro de continuidade de camadas para ID 5776\n",
            "DEBUG [2024-03-03 20:08:03] Processando ID  7064\n",
            "DEBUG [2024-03-03 20:08:03] Processando ID  7066\n",
            "ERROR [2024-03-03 20:08:03] Dados de camada 1 incompletos para ID 7066\n"
          ]
        }
      ]
    }
  ]
}