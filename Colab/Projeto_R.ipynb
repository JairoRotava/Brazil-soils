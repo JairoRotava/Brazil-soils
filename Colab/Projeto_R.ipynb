{
  "nbformat": 4,
  "nbformat_minor": 0,
  "metadata": {
    "colab": {
      "name": "Projeto R.ipynb",
      "provenance": [],
      "authorship_tag": "ABX9TyPFHytbuGHU5A2NGTKyHWi8",
      "include_colab_link": true
    },
    "kernelspec": {
      "name": "ir",
      "display_name": "R"
    },
    "language_info": {
      "name": "R"
    }
  },
  "cells": [
    {
      "cell_type": "markdown",
      "metadata": {
        "id": "view-in-github",
        "colab_type": "text"
      },
      "source": [
        "<a href=\"https://colab.research.google.com/github/JairoRotava/Brazil-soils/blob/main/Colab/Projeto_R.ipynb\" target=\"_parent\"><img src=\"https://colab.research.google.com/assets/colab-badge.svg\" alt=\"Open In Colab\"/></a>"
      ]
    },
    {
      "cell_type": "code",
      "execution_count": 1,
      "metadata": {
        "colab": {
          "base_uri": "https://localhost:8080/",
          "height": 277
        },
        "id": "I5Mx5u05VIYs",
        "outputId": "b4885695-860f-4682-b850-c90652074a6b"
      },
      "outputs": [
        {
          "output_type": "display_data",
          "data": {
            "text/plain": [
              "               _                           \n",
              "platform       x86_64-pc-linux-gnu         \n",
              "arch           x86_64                      \n",
              "os             linux-gnu                   \n",
              "system         x86_64, linux-gnu           \n",
              "status                                     \n",
              "major          4                           \n",
              "minor          2.1                         \n",
              "year           2022                        \n",
              "month          06                          \n",
              "day            23                          \n",
              "svn rev        82513                       \n",
              "language       R                           \n",
              "version.string R version 4.2.1 (2022-06-23)\n",
              "nickname       Funny-Looking Kid           "
            ]
          },
          "metadata": {}
        }
      ],
      "source": [
        "R.version"
      ]
    },
    {
      "cell_type": "code",
      "source": [
        ""
      ],
      "metadata": {
        "id": "Vc7jzXn9VZVx"
      },
      "execution_count": null,
      "outputs": []
    }
  ]
}