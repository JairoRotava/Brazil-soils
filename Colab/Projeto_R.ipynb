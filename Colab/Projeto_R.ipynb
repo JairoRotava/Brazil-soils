{
  "nbformat": 4,
  "nbformat_minor": 0,
  "metadata": {
    "colab": {
      "name": "Projeto R.ipynb",
      "provenance": [],
      "authorship_tag": "ABX9TyMq/tfTEGmljtSN+J8hsu8Y",
      "include_colab_link": true
    },
    "kernelspec": {
      "name": "ir",
      "display_name": "R"
    },
    "language_info": {
      "name": "R"
    }
  },
  "cells": [
    {
      "cell_type": "markdown",
      "metadata": {
        "id": "view-in-github",
        "colab_type": "text"
      },
      "source": [
        "<a href=\"https://colab.research.google.com/github/JairoRotava/Brazil-soils/blob/main/Colab/Projeto_R.ipynb\" target=\"_parent\"><img src=\"https://colab.research.google.com/assets/colab-badge.svg\" alt=\"Open In Colab\"/></a>"
      ]
    },
    {
      "cell_type": "code",
      "execution_count": 4,
      "metadata": {
        "colab": {
          "base_uri": "https://localhost:8080/",
          "height": 277
        },
        "id": "I5Mx5u05VIYs",
        "outputId": "4303fb2f-d058-4926-f794-1c705982fc58"
      },
      "outputs": [
        {
          "output_type": "display_data",
          "data": {
            "text/plain": [
              "               _                           \n",
              "platform       x86_64-pc-linux-gnu         \n",
              "arch           x86_64                      \n",
              "os             linux-gnu                   \n",
              "system         x86_64, linux-gnu           \n",
              "status                                     \n",
              "major          4                           \n",
              "minor          2.1                         \n",
              "year           2022                        \n",
              "month          06                          \n",
              "day            23                          \n",
              "svn rev        82513                       \n",
              "language       R                           \n",
              "version.string R version 4.2.1 (2022-06-23)\n",
              "nickname       Funny-Looking Kid           "
            ]
          },
          "metadata": {}
        }
      ],
      "source": [
        "R.version"
      ]
    },
    {
      "cell_type": "code",
      "source": [
        "# Baixa dados do github\n",
        "cat(system('sudo git clone https://github.com/JairoRotava/Brazil-soils', intern=TRUE),sep = \"\\n\")"
      ],
      "metadata": {
        "id": "Vc7jzXn9VZVx",
        "outputId": "d8359805-9054-41ee-de2f-e6ea576e91c1",
        "colab": {
          "base_uri": "https://localhost:8080/"
        }
      },
      "execution_count": 5,
      "outputs": [
        {
          "output_type": "stream",
          "name": "stderr",
          "text": [
            "Warning message in system(\"sudo git clone https://github.com/JairoRotava/Brazil-soils\", :\n",
            "“running command 'sudo git clone https://github.com/JairoRotava/Brazil-soils' had status 128”\n"
          ]
        },
        {
          "output_type": "stream",
          "name": "stdout",
          "text": [
            "\n"
          ]
        }
      ]
    },
    {
      "cell_type": "code",
      "source": [
        "cat(system('sudo git', intern=TRUE),sep = \"\\n\")"
      ],
      "metadata": {
        "id": "V0yOWcW0YkWs",
        "outputId": "87aaaa4a-713d-42df-e2a8-be199e99ea3c",
        "colab": {
          "base_uri": "https://localhost:8080/"
        }
      },
      "execution_count": 6,
      "outputs": [
        {
          "output_type": "stream",
          "name": "stderr",
          "text": [
            "Warning message in system(\"sudo git\", intern = TRUE):\n",
            "“running command 'sudo git' had status 1”\n"
          ]
        },
        {
          "output_type": "stream",
          "name": "stdout",
          "text": [
            "usage: git [--version] [--help] [-C <path>] [-c <name>=<value>]\n",
            "           [--exec-path[=<path>]] [--html-path] [--man-path] [--info-path]\n",
            "           [-p | --paginate | --no-pager] [--no-replace-objects] [--bare]\n",
            "           [--git-dir=<path>] [--work-tree=<path>] [--namespace=<name>]\n",
            "           <command> [<args>]\n",
            "\n",
            "These are common Git commands used in various situations:\n",
            "\n",
            "start a working area (see also: git help tutorial)\n",
            "   clone      Clone a repository into a new directory\n",
            "   init       Create an empty Git repository or reinitialize an existing one\n",
            "\n",
            "work on the current change (see also: git help everyday)\n",
            "   add        Add file contents to the index\n",
            "   mv         Move or rename a file, a directory, or a symlink\n",
            "   reset      Reset current HEAD to the specified state\n",
            "   rm         Remove files from the working tree and from the index\n",
            "\n",
            "examine the history and state (see also: git help revisions)\n",
            "   bisect     Use binary search to find the commit that introduced a bug\n",
            "   grep       Print lines matching a pattern\n",
            "   log        Show commit logs\n",
            "   show       Show various types of objects\n",
            "   status     Show the working tree status\n",
            "\n",
            "grow, mark and tweak your common history\n",
            "   branch     List, create, or delete branches\n",
            "   checkout   Switch branches or restore working tree files\n",
            "   commit     Record changes to the repository\n",
            "   diff       Show changes between commits, commit and working tree, etc\n",
            "   merge      Join two or more development histories together\n",
            "   rebase     Reapply commits on top of another base tip\n",
            "   tag        Create, list, delete or verify a tag object signed with GPG\n",
            "\n",
            "collaborate (see also: git help workflows)\n",
            "   fetch      Download objects and refs from another repository\n",
            "   pull       Fetch from and integrate with another repository or a local branch\n",
            "   push       Update remote refs along with associated objects\n",
            "\n",
            "'git help -a' and 'git help -g' list available subcommands and some\n",
            "concept guides. See 'git help <command>' or 'git help <concept>'\n",
            "to read about a specific subcommand or concept.\n"
          ]
        }
      ]
    },
    {
      "cell_type": "code",
      "source": [
        ""
      ],
      "metadata": {
        "id": "cQ_V54__Yqjp"
      },
      "execution_count": null,
      "outputs": []
    }
  ]
}